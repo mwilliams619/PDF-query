{
  "cells": [
    {
      "cell_type": "code",
      "execution_count": 1,
      "metadata": {
        "id": "xlorSbccWEDa"
      },
      "outputs": [
        {
          "name": "stdout",
          "output_type": "stream",
          "text": [
            "Requirement already satisfied: langchain in /Users/Work/anaconda3/envs/researcher/lib/python3.11/site-packages (0.0.275)\n",
            "Requirement already satisfied: PyYAML>=5.3 in /Users/Work/anaconda3/envs/researcher/lib/python3.11/site-packages (from langchain) (6.0.1)\n",
            "Requirement already satisfied: SQLAlchemy<3,>=1.4 in /Users/Work/anaconda3/envs/researcher/lib/python3.11/site-packages (from langchain) (2.0.21)\n",
            "Requirement already satisfied: aiohttp<4.0.0,>=3.8.3 in /Users/Work/anaconda3/envs/researcher/lib/python3.11/site-packages (from langchain) (3.8.5)\n",
            "Requirement already satisfied: dataclasses-json<0.6.0,>=0.5.7 in /Users/Work/anaconda3/envs/researcher/lib/python3.11/site-packages (from langchain) (0.5.14)\n",
            "Requirement already satisfied: langsmith<0.1.0,>=0.0.21 in /Users/Work/anaconda3/envs/researcher/lib/python3.11/site-packages (from langchain) (0.0.40)\n",
            "Requirement already satisfied: numexpr<3.0.0,>=2.8.4 in /Users/Work/anaconda3/envs/researcher/lib/python3.11/site-packages (from langchain) (2.8.7)\n",
            "Requirement already satisfied: numpy<2,>=1 in /Users/Work/anaconda3/envs/researcher/lib/python3.11/site-packages (from langchain) (1.26.0)\n",
            "Requirement already satisfied: pydantic<3,>=1 in /Users/Work/anaconda3/envs/researcher/lib/python3.11/site-packages (from langchain) (2.3.0)\n",
            "Requirement already satisfied: requests<3,>=2 in /Users/Work/anaconda3/envs/researcher/lib/python3.11/site-packages (from langchain) (2.31.0)\n",
            "Requirement already satisfied: tenacity<9.0.0,>=8.1.0 in /Users/Work/anaconda3/envs/researcher/lib/python3.11/site-packages (from langchain) (8.2.3)\n",
            "Requirement already satisfied: attrs>=17.3.0 in /Users/Work/anaconda3/envs/researcher/lib/python3.11/site-packages (from aiohttp<4.0.0,>=3.8.3->langchain) (23.1.0)\n",
            "Requirement already satisfied: charset-normalizer<4.0,>=2.0 in /Users/Work/anaconda3/envs/researcher/lib/python3.11/site-packages (from aiohttp<4.0.0,>=3.8.3->langchain) (3.2.0)\n",
            "Requirement already satisfied: multidict<7.0,>=4.5 in /Users/Work/anaconda3/envs/researcher/lib/python3.11/site-packages (from aiohttp<4.0.0,>=3.8.3->langchain) (6.0.4)\n",
            "Requirement already satisfied: async-timeout<5.0,>=4.0.0a3 in /Users/Work/anaconda3/envs/researcher/lib/python3.11/site-packages (from aiohttp<4.0.0,>=3.8.3->langchain) (4.0.3)\n",
            "Requirement already satisfied: yarl<2.0,>=1.0 in /Users/Work/anaconda3/envs/researcher/lib/python3.11/site-packages (from aiohttp<4.0.0,>=3.8.3->langchain) (1.9.2)\n",
            "Requirement already satisfied: frozenlist>=1.1.1 in /Users/Work/anaconda3/envs/researcher/lib/python3.11/site-packages (from aiohttp<4.0.0,>=3.8.3->langchain) (1.4.0)\n",
            "Requirement already satisfied: aiosignal>=1.1.2 in /Users/Work/anaconda3/envs/researcher/lib/python3.11/site-packages (from aiohttp<4.0.0,>=3.8.3->langchain) (1.3.1)\n",
            "Requirement already satisfied: marshmallow<4.0.0,>=3.18.0 in /Users/Work/anaconda3/envs/researcher/lib/python3.11/site-packages (from dataclasses-json<0.6.0,>=0.5.7->langchain) (3.20.1)\n",
            "Requirement already satisfied: typing-inspect<1,>=0.4.0 in /Users/Work/anaconda3/envs/researcher/lib/python3.11/site-packages (from dataclasses-json<0.6.0,>=0.5.7->langchain) (0.9.0)\n",
            "Requirement already satisfied: annotated-types>=0.4.0 in /Users/Work/anaconda3/envs/researcher/lib/python3.11/site-packages (from pydantic<3,>=1->langchain) (0.5.0)\n",
            "Requirement already satisfied: pydantic-core==2.6.3 in /Users/Work/anaconda3/envs/researcher/lib/python3.11/site-packages (from pydantic<3,>=1->langchain) (2.6.3)\n",
            "Requirement already satisfied: typing-extensions>=4.6.1 in /Users/Work/anaconda3/envs/researcher/lib/python3.11/site-packages (from pydantic<3,>=1->langchain) (4.8.0)\n",
            "Requirement already satisfied: idna<4,>=2.5 in /Users/Work/anaconda3/envs/researcher/lib/python3.11/site-packages (from requests<3,>=2->langchain) (3.4)\n",
            "Requirement already satisfied: urllib3<3,>=1.21.1 in /Users/Work/anaconda3/envs/researcher/lib/python3.11/site-packages (from requests<3,>=2->langchain) (2.0.7)\n",
            "Requirement already satisfied: certifi>=2017.4.17 in /Users/Work/anaconda3/envs/researcher/lib/python3.11/site-packages (from requests<3,>=2->langchain) (2023.7.22)\n",
            "Requirement already satisfied: greenlet!=0.4.17 in /Users/Work/anaconda3/envs/researcher/lib/python3.11/site-packages (from SQLAlchemy<3,>=1.4->langchain) (2.0.2)\n",
            "Requirement already satisfied: packaging>=17.0 in /Users/Work/anaconda3/envs/researcher/lib/python3.11/site-packages (from marshmallow<4.0.0,>=3.18.0->dataclasses-json<0.6.0,>=0.5.7->langchain) (23.1)\n",
            "Requirement already satisfied: mypy-extensions>=0.3.0 in /Users/Work/anaconda3/envs/researcher/lib/python3.11/site-packages (from typing-inspect<1,>=0.4.0->dataclasses-json<0.6.0,>=0.5.7->langchain) (1.0.0)\n",
            "Note: you may need to restart the kernel to use updated packages.\n",
            "Requirement already satisfied: openai in /Users/Work/anaconda3/envs/researcher/lib/python3.11/site-packages (0.28.0)\n",
            "Requirement already satisfied: requests>=2.20 in /Users/Work/anaconda3/envs/researcher/lib/python3.11/site-packages (from openai) (2.31.0)\n",
            "Requirement already satisfied: tqdm in /Users/Work/anaconda3/envs/researcher/lib/python3.11/site-packages (from openai) (4.66.1)\n",
            "Requirement already satisfied: aiohttp in /Users/Work/anaconda3/envs/researcher/lib/python3.11/site-packages (from openai) (3.8.5)\n",
            "Requirement already satisfied: charset-normalizer<4,>=2 in /Users/Work/anaconda3/envs/researcher/lib/python3.11/site-packages (from requests>=2.20->openai) (3.2.0)\n",
            "Requirement already satisfied: idna<4,>=2.5 in /Users/Work/anaconda3/envs/researcher/lib/python3.11/site-packages (from requests>=2.20->openai) (3.4)\n",
            "Requirement already satisfied: urllib3<3,>=1.21.1 in /Users/Work/anaconda3/envs/researcher/lib/python3.11/site-packages (from requests>=2.20->openai) (2.0.7)\n",
            "Requirement already satisfied: certifi>=2017.4.17 in /Users/Work/anaconda3/envs/researcher/lib/python3.11/site-packages (from requests>=2.20->openai) (2023.7.22)\n",
            "Requirement already satisfied: attrs>=17.3.0 in /Users/Work/anaconda3/envs/researcher/lib/python3.11/site-packages (from aiohttp->openai) (23.1.0)\n",
            "Requirement already satisfied: multidict<7.0,>=4.5 in /Users/Work/anaconda3/envs/researcher/lib/python3.11/site-packages (from aiohttp->openai) (6.0.4)\n",
            "Requirement already satisfied: async-timeout<5.0,>=4.0.0a3 in /Users/Work/anaconda3/envs/researcher/lib/python3.11/site-packages (from aiohttp->openai) (4.0.3)\n",
            "Requirement already satisfied: yarl<2.0,>=1.0 in /Users/Work/anaconda3/envs/researcher/lib/python3.11/site-packages (from aiohttp->openai) (1.9.2)\n",
            "Requirement already satisfied: frozenlist>=1.1.1 in /Users/Work/anaconda3/envs/researcher/lib/python3.11/site-packages (from aiohttp->openai) (1.4.0)\n",
            "Requirement already satisfied: aiosignal>=1.1.2 in /Users/Work/anaconda3/envs/researcher/lib/python3.11/site-packages (from aiohttp->openai) (1.3.1)\n",
            "Note: you may need to restart the kernel to use updated packages.\n",
            "Requirement already satisfied: PyPDF2 in /Users/Work/anaconda3/envs/researcher/lib/python3.11/site-packages (3.0.1)\n",
            "Note: you may need to restart the kernel to use updated packages.\n",
            "Requirement already satisfied: faiss-cpu in /Users/Work/anaconda3/envs/researcher/lib/python3.11/site-packages (1.7.4)\n",
            "Note: you may need to restart the kernel to use updated packages.\n",
            "Requirement already satisfied: tiktoken in /Users/Work/anaconda3/envs/researcher/lib/python3.11/site-packages (0.5.1)\n",
            "Requirement already satisfied: regex>=2022.1.18 in /Users/Work/anaconda3/envs/researcher/lib/python3.11/site-packages (from tiktoken) (2023.10.3)\n",
            "Requirement already satisfied: requests>=2.26.0 in /Users/Work/anaconda3/envs/researcher/lib/python3.11/site-packages (from tiktoken) (2.31.0)\n",
            "Requirement already satisfied: charset-normalizer<4,>=2 in /Users/Work/anaconda3/envs/researcher/lib/python3.11/site-packages (from requests>=2.26.0->tiktoken) (3.2.0)\n",
            "Requirement already satisfied: idna<4,>=2.5 in /Users/Work/anaconda3/envs/researcher/lib/python3.11/site-packages (from requests>=2.26.0->tiktoken) (3.4)\n",
            "Requirement already satisfied: urllib3<3,>=1.21.1 in /Users/Work/anaconda3/envs/researcher/lib/python3.11/site-packages (from requests>=2.26.0->tiktoken) (2.0.7)\n",
            "Requirement already satisfied: certifi>=2017.4.17 in /Users/Work/anaconda3/envs/researcher/lib/python3.11/site-packages (from requests>=2.26.0->tiktoken) (2023.7.22)\n",
            "Note: you may need to restart the kernel to use updated packages.\n",
            "Requirement already satisfied: PyDrive in /Users/Work/anaconda3/envs/researcher/lib/python3.11/site-packages (1.3.1)\n",
            "Requirement already satisfied: google-api-python-client>=1.2 in /Users/Work/anaconda3/envs/researcher/lib/python3.11/site-packages (from PyDrive) (2.104.0)\n",
            "Requirement already satisfied: oauth2client>=4.0.0 in /Users/Work/anaconda3/envs/researcher/lib/python3.11/site-packages (from PyDrive) (4.1.3)\n",
            "Requirement already satisfied: PyYAML>=3.0 in /Users/Work/anaconda3/envs/researcher/lib/python3.11/site-packages (from PyDrive) (6.0.1)\n",
            "Requirement already satisfied: httplib2<1.dev0,>=0.15.0 in /Users/Work/anaconda3/envs/researcher/lib/python3.11/site-packages (from google-api-python-client>=1.2->PyDrive) (0.22.0)\n",
            "Requirement already satisfied: google-auth<3.0.0.dev0,>=1.19.0 in /Users/Work/anaconda3/envs/researcher/lib/python3.11/site-packages (from google-api-python-client>=1.2->PyDrive) (2.23.3)\n",
            "Requirement already satisfied: google-auth-httplib2>=0.1.0 in /Users/Work/anaconda3/envs/researcher/lib/python3.11/site-packages (from google-api-python-client>=1.2->PyDrive) (0.1.1)\n",
            "Requirement already satisfied: google-api-core!=2.0.*,!=2.1.*,!=2.2.*,!=2.3.0,<3.0.0.dev0,>=1.31.5 in /Users/Work/anaconda3/envs/researcher/lib/python3.11/site-packages (from google-api-python-client>=1.2->PyDrive) (2.12.0)\n",
            "Requirement already satisfied: uritemplate<5,>=3.0.1 in /Users/Work/anaconda3/envs/researcher/lib/python3.11/site-packages (from google-api-python-client>=1.2->PyDrive) (4.1.1)\n",
            "Requirement already satisfied: pyasn1>=0.1.7 in /Users/Work/anaconda3/envs/researcher/lib/python3.11/site-packages (from oauth2client>=4.0.0->PyDrive) (0.5.0)\n",
            "Requirement already satisfied: pyasn1-modules>=0.0.5 in /Users/Work/anaconda3/envs/researcher/lib/python3.11/site-packages (from oauth2client>=4.0.0->PyDrive) (0.3.0)\n",
            "Requirement already satisfied: rsa>=3.1.4 in /Users/Work/anaconda3/envs/researcher/lib/python3.11/site-packages (from oauth2client>=4.0.0->PyDrive) (4.9)\n",
            "Requirement already satisfied: six>=1.6.1 in /Users/Work/anaconda3/envs/researcher/lib/python3.11/site-packages (from oauth2client>=4.0.0->PyDrive) (1.16.0)\n",
            "Requirement already satisfied: googleapis-common-protos<2.0.dev0,>=1.56.2 in /Users/Work/anaconda3/envs/researcher/lib/python3.11/site-packages (from google-api-core!=2.0.*,!=2.1.*,!=2.2.*,!=2.3.0,<3.0.0.dev0,>=1.31.5->google-api-python-client>=1.2->PyDrive) (1.61.0)\n",
            "Requirement already satisfied: protobuf!=3.20.0,!=3.20.1,!=4.21.0,!=4.21.1,!=4.21.2,!=4.21.3,!=4.21.4,!=4.21.5,<5.0.0.dev0,>=3.19.5 in /Users/Work/anaconda3/envs/researcher/lib/python3.11/site-packages (from google-api-core!=2.0.*,!=2.1.*,!=2.2.*,!=2.3.0,<3.0.0.dev0,>=1.31.5->google-api-python-client>=1.2->PyDrive) (4.24.4)\n",
            "Requirement already satisfied: requests<3.0.0.dev0,>=2.18.0 in /Users/Work/anaconda3/envs/researcher/lib/python3.11/site-packages (from google-api-core!=2.0.*,!=2.1.*,!=2.2.*,!=2.3.0,<3.0.0.dev0,>=1.31.5->google-api-python-client>=1.2->PyDrive) (2.31.0)\n",
            "Requirement already satisfied: cachetools<6.0,>=2.0.0 in /Users/Work/anaconda3/envs/researcher/lib/python3.11/site-packages (from google-auth<3.0.0.dev0,>=1.19.0->google-api-python-client>=1.2->PyDrive) (5.3.1)\n",
            "Requirement already satisfied: pyparsing!=3.0.0,!=3.0.1,!=3.0.2,!=3.0.3,<4,>=2.4.2 in /Users/Work/anaconda3/envs/researcher/lib/python3.11/site-packages (from httplib2<1.dev0,>=0.15.0->google-api-python-client>=1.2->PyDrive) (3.0.9)\n",
            "Requirement already satisfied: charset-normalizer<4,>=2 in /Users/Work/anaconda3/envs/researcher/lib/python3.11/site-packages (from requests<3.0.0.dev0,>=2.18.0->google-api-core!=2.0.*,!=2.1.*,!=2.2.*,!=2.3.0,<3.0.0.dev0,>=1.31.5->google-api-python-client>=1.2->PyDrive) (3.2.0)\n",
            "Requirement already satisfied: idna<4,>=2.5 in /Users/Work/anaconda3/envs/researcher/lib/python3.11/site-packages (from requests<3.0.0.dev0,>=2.18.0->google-api-core!=2.0.*,!=2.1.*,!=2.2.*,!=2.3.0,<3.0.0.dev0,>=1.31.5->google-api-python-client>=1.2->PyDrive) (3.4)\n",
            "Requirement already satisfied: urllib3<3,>=1.21.1 in /Users/Work/anaconda3/envs/researcher/lib/python3.11/site-packages (from requests<3.0.0.dev0,>=2.18.0->google-api-core!=2.0.*,!=2.1.*,!=2.2.*,!=2.3.0,<3.0.0.dev0,>=1.31.5->google-api-python-client>=1.2->PyDrive) (2.0.7)\n",
            "Requirement already satisfied: certifi>=2017.4.17 in /Users/Work/anaconda3/envs/researcher/lib/python3.11/site-packages (from requests<3.0.0.dev0,>=2.18.0->google-api-core!=2.0.*,!=2.1.*,!=2.2.*,!=2.3.0,<3.0.0.dev0,>=1.31.5->google-api-python-client>=1.2->PyDrive) (2023.7.22)\n",
            "Note: you may need to restart the kernel to use updated packages.\n"
          ]
        }
      ],
      "source": [
        "%pip install langchain\n",
        "%pip install openai\n",
        "%pip install PyPDF2\n",
        "%pip install faiss-cpu\n",
        "%pip install tiktoken\n",
        "%pip install PyDrive"
      ]
    },
    {
      "cell_type": "code",
      "execution_count": 2,
      "metadata": {
        "id": "nq0vKGFeW1KD"
      },
      "outputs": [],
      "source": [
        "from PyPDF2 import PdfReader\n",
        "from langchain.embeddings.openai import OpenAIEmbeddings\n",
        "from langchain.text_splitter import CharacterTextSplitter\n",
        "from langchain.vectorstores import ElasticVectorSearch, Pinecone, Weaviate, FAISS"
      ]
    },
    {
      "cell_type": "code",
      "execution_count": 3,
      "metadata": {
        "id": "yKaKB_GjWKjL"
      },
      "outputs": [],
      "source": [
        "# Get your API keys from openai, you will need to create an account.\n",
        "# Here is the link to get the keys: https://platform.openai.com/account/billing/overview\n",
        "import os\n",
        "os.environ[\"OPENAI_API_KEY\"] = \"{ADD KEY HERE}\""
      ]
    },
    {
      "cell_type": "code",
      "execution_count": 32,
      "metadata": {},
      "outputs": [
        {
          "name": "stdout",
          "output_type": "stream",
          "text": [
            "Total number of pages in Draft DE-LC-000L110 FY24 TCF Base Joint Lab Call_11.01.2023.pdf: 109\n"
          ]
        }
      ],
      "source": [
        "# Specify the path to the directory containing your PDF files\n",
        "directory_path = '{Path/To/Directory}'\n",
        "\n",
        "# List all PDF files in the directory\n",
        "pdf_files = [file for file in os.listdir(directory_path) if file.endswith('.pdf')]\n",
        "\n",
        "# Loop through the list of PDF files and read each one\n",
        "for pdf_file in pdf_files:\n",
        "    pdf_file_path = os.path.join(directory_path, pdf_file)  # Full path to the PDF file\n",
        "    pdf_reader = PdfReader(pdf_file_path)\n",
        "\n",
        "    # Access the number of pages in the PDF\n",
        "    num_pages = len(pdf_reader.pages)\n",
        "    print(f'Total number of pages in {pdf_file}: {num_pages}')\n",
        "    raw_text = ''\n",
        "    # Access the text content of each page\n",
        "    for page_num, page in enumerate(pdf_reader.pages):\n",
        "            text = page.extract_text()\n",
        "            if text:\n",
        "                raw_text += text"
      ]
    },
    {
      "cell_type": "code",
      "execution_count": 33,
      "metadata": {
        "colab": {
          "base_uri": "https://localhost:8080/",
          "height": 36
        },
        "id": "CQkqUBlzW-Xv",
        "outputId": "d49d70f1-e076-48f2-dbce-f14d6ff0e279"
      },
      "outputs": [
        {
          "data": {
            "text/plain": [
              "' \\nQUESTIONS ABOUT THIS LAB CALL? EMAIL TCF@ HQ.DOE.GOV. \\nPROBLEMS WITH EXCHANGE ? EMAIL EERE- EXCHAN'"
            ]
          },
          "execution_count": 33,
          "metadata": {},
          "output_type": "execute_result"
        }
      ],
      "source": [
        "raw_text[:100]"
      ]
    },
    {
      "cell_type": "code",
      "execution_count": 34,
      "metadata": {
        "id": "VdXzkpf9XAfP"
      },
      "outputs": [],
      "source": [
        "# We need to split the text that we read into smaller chunks so that during information retreival we don't hit the token size limits.\n",
        "\n",
        "# lines = (line.strip() for line in raw_text.splitlines())\n",
        "# chunks = (phrase.strip() for line in lines for phrase in line.split(\"  \"))\n",
        "# text = \"\\n\".join(chunk for chunk in chunks if chunk)\n",
        "\n",
        "text_splitter = CharacterTextSplitter(\n",
        "    separator = \"\\n\",\n",
        "    chunk_size = 5000,\n",
        "    chunk_overlap  = 650,\n",
        "    length_function = len,\n",
        ")\n",
        "texts = text_splitter.split_text(raw_text)"
      ]
    },
    {
      "cell_type": "code",
      "execution_count": 36,
      "metadata": {
        "colab": {
          "base_uri": "https://localhost:8080/"
        },
        "id": "ozkNTiNuZ0TX",
        "outputId": "dd800c23-e6fb-401a-ba22-1bb4a6b7d854"
      },
      "outputs": [
        {
          "data": {
            "text/plain": [
              "61"
            ]
          },
          "execution_count": 36,
          "metadata": {},
          "output_type": "execute_result"
        }
      ],
      "source": [
        "len(texts)"
      ]
    },
    {
      "cell_type": "code",
      "execution_count": 37,
      "metadata": {
        "colab": {
          "base_uri": "https://localhost:8080/",
          "height": 157
        },
        "id": "1SqdR3wFZ3Ih",
        "outputId": "8351feea-aa9a-4092-edfa-9f7a52e231ff"
      },
      "outputs": [
        {
          "data": {
            "text/plain": [
              "'QUESTIONS ABOUT THIS LAB CALL? EMAIL TCF@ HQ.DOE.GOV. \\nPROBLEMS WITH EXCHANGE ? EMAIL EERE- EXCHANGE SUPPORT @HQ.DOE.GOV & \\nINCLUDE LAB CALL NAME AND NUMBER IN SUBJECT LINE . \\n \\nU.S. Department of Energy  \\nOffice of Technology Transitions  \\nTechnology Commercialization  Fund  \\nBase Annual Appropriations  \\n \\nDRAFT National Laboratory  Call for Proposals  \\nCore Laboratory Infrastructure for M arket Readiness  (CLIMR ) \\n \\nDE-LC-000L 110 \\n \\nFiscal Year 202 4 \\n \\n \\n \\n \\n \\n \\nThis lab call is being issued as part of the Technology Commercialization Fund Base Annual \\nAppropriations by the U.S. Department of Energy’s  (DOE’s) Office of Technology Transitions  \\nthe Office of Cybersecurity, Energy Security, and Emergency Response, Office of Electricity, \\nOffice of Fossil Energy and Carbon Management, Office of Nuclear Energy, and the Office of \\nEnergy Efficiency and Renewable Energy, in particular: Advanced Material s and Manufacturing \\nTechnologies Office, Bioenergy Technologies Office, Buildings Technologies Office, Geothermal Technologies Office, Hydrogen and Fuel Cell Technologies Office, Industrial Efficiency and Decarbonization Office, Solar Energy Technologies O ffice, Vehicle Technologies Office, Water \\nPower Technologies Office, and Wind Energy Technologies Office . This call solicits proposals \\nfrom National Laboratory Tech nology  Transfer Offices , in collaboration with partners across the \\nDOE National Laboratory c omplex , to develop and implement progra mming to facilitate an \\nimproved and more impactful lab commercialization process  as well as advance  technology -\\nspecific laboratory  intellectual property to market .    \\n \\nQUESTIONS ABOUT THIS LAB CALL? EMAIL TCF@ HQ.DOE.GOV. \\nPROBLEMS WITH EXCHANGE ? EMAIL EERE- EXCHANGE SUPPORT @HQ.DOE.GOV & \\nINCLUDE LAB CALL NAME AND NUMBER IN SUBJECT LINE . \\nii \\n \\nTable of Contents  \\nTable of Contents  .............................................................................................................................ii  \\nLab Call Modification History  .......................................................................................................... iv \\nI. Lab Call Description  ................................................................................................................. 5 \\nA. Background and Context  ...................................................................................................... 5 \\ni. Vision for FY24 TCF Base and Moving Forward  ............................................................... 6 \\nB. Timeline and Communications  ............................................................................................ 7 \\nC. Key Considerations and Requirements  ................................................................................ 8 \\ni. Available Funding and Number of Selections  .................................................................. 8 \\nii. Partners  ............................................................................................................................ 9 \\niii. Cost -Share  ........................................................................................................................ 9 \\niv. Community Benefits Plan .............................................................................................. 11 \\nv. National Laboratory Collaboration  ................................................................................ 12 \\nvi. Teaming Partner List  ...................................................................................................... 12 \\nD. Topic Area Descriptions  ..................................................................................................... 13 \\ni. Topic 1: Market Needs Assessment  ............................................................................... 13 \\nii. Topic 2: Curation of Intellectual Property  ..................................................................... 15 \\niii. Topic 3: Matchmaking  .................................................................................................... 17 \\niv. Topic 4: Technology Specific Partnerships ..................................................................... 19 \\nv. Topic 5: Enhancing Laboratory Processes and Cybersecurity  ....................................... 71 \\nvi. Topic 6: Increasing Partnerships with External Commercialization Parties  .................. 73 \\nII. Application Submission and Review Information  .................................................................  74 \\nA. Process and Submission Details  ......................................................................................... 75 \\ni. Process  ........................................................................................................................... 75 \\nii. Concept Papers  .............................................................................................................. 77'"
            ]
          },
          "execution_count": 37,
          "metadata": {},
          "output_type": "execute_result"
        }
      ],
      "source": [
        "texts[0]"
      ]
    },
    {
      "cell_type": "code",
      "execution_count": 41,
      "metadata": {
        "id": "TcZUsQVyXBPX"
      },
      "outputs": [],
      "source": [
        "# Download embeddings from OpenAI\n",
        "embeddings = OpenAIEmbeddings()"
      ]
    },
    {
      "cell_type": "code",
      "execution_count": 42,
      "metadata": {
        "id": "9C8py6wQXE5_"
      },
      "outputs": [],
      "source": [
        "docsearch = FAISS.from_texts(texts, embeddings)"
      ]
    },
    {
      "cell_type": "code",
      "execution_count": 13,
      "metadata": {
        "colab": {
          "base_uri": "https://localhost:8080/"
        },
        "id": "E_t_EpZ_XGz2",
        "outputId": "1461a4ea-0e32-40f0-dd05-a04e3c6fa243"
      },
      "outputs": [
        {
          "data": {
            "text/plain": [
              "<langchain.vectorstores.faiss.FAISS at 0x12075e310>"
            ]
          },
          "execution_count": 13,
          "metadata": {},
          "output_type": "execute_result"
        }
      ],
      "source": [
        "docsearch"
      ]
    },
    {
      "cell_type": "code",
      "execution_count": 43,
      "metadata": {
        "id": "wpQ2VnBvXI2f"
      },
      "outputs": [],
      "source": [
        "from langchain.chains.question_answering import load_qa_chain\n",
        "from langchain.llms import OpenAI"
      ]
    },
    {
      "cell_type": "code",
      "execution_count": 44,
      "metadata": {
        "id": "_L_Ywm-iXLhm"
      },
      "outputs": [],
      "source": [
        "chain = load_qa_chain(OpenAI(), chain_type=\"stuff\")"
      ]
    },
    {
      "cell_type": "code",
      "execution_count": 45,
      "metadata": {
        "colab": {
          "base_uri": "https://localhost:8080/",
          "height": 36
        },
        "id": "3mtAth2jXNKO",
        "outputId": "4150fc7a-7705-41ec-a562-ac86e0cfb4f3"
      },
      "outputs": [
        {
          "name": "stdout",
          "output_type": "stream",
          "text": [
            "1. What specific capabilities and resources does the DOE lab offer that can enhance the scalability and efficiency of fermentation-based biomanufacturing processes within a small biotech startup environment? Please provide detailed information on equipment, expertise, and any unique analytical methods that could support the development and optimization of microbial strains, fermentation conditions, or downstream processing techniques.\n",
            "\n",
            "2. How can a small biotech startup like ours engage in a collaborative partnership with a DOE lab to leverage high-throughput screening and omics technologies for the improvement of fermentation-based biomanufacturing? Can you outline the process for accessing these technologies, including any requirements for data sharing, intellectual property considerations, and the potential for co-publishing research findings?\n",
            "\n",
            "3. Considering our focus on fermentation-based biomanufacturing, what opportunities are available through the DOE lab for piloting novel feedstock utilization strategies, optimizing energy consumption, and reducing waste in our processes? Could you provide examples of past successful partnerships or projects that have led to the commercialization of sustainable\n",
            "[\"The Department of Energy (DOE) is seeking proposals for projects that will accelerate the commercialization of lab-developed technologies. These proposals should not only focus on forming teams but also provide additional support such as business planning, funding, expertise, mentoring, and connections with investors and corporations. Applicants are encouraged to collaborate with external organizations and to learn from existing DOE programs and other initiatives like DARPA's Embedded Entrepreneurship Initiative and Energy I-Corps. Proposals can fall under three areas of interest:\\n\\n1. AOI 3.1: This involves supplemental funding for the maturation and commercialization of National Lab-developed technology, particularly those leveraging the Lab Embedded Entrepreneurship Program (LEEP). Projects should aim to advance the commercialization of lab-developed technology with a budget recommendation of $250,000 to $500,000.\\n\\n2. AOI 3.2: This focuses on entrepreneurial matchmaking, akin to medical residency match programs, to connect entrepreneurs with lab assets, principal investigators, and intellectual property (IP), providing them with the necessary support to bring their IP-integrated products to market.\\n\\n3. AOI 3.3: This pertains to incubators, accelerators, and other support programs that assist innovators and small businesses in developing their technologies and products for market adoption, attracting capital, and networking.\\n\\nProposals are expected to meet a 50% total project cost-share funds requirement, with some flexibility for those that do not meet this threshold. The DOE encourages leveraging existing programs and expanding them across the National Laboratory complex to foster innovation and commercialization.\", \"The i2X program is focused on improving the utility grid's hosting capacity maps to better inform customers about service availability and grid upgrade costs, particularly for the integration of variable energy resources like solar and wind. The program aims to develop dynamic maps and promote joint hosting capacity maps for utilities with adjacent territories to streamline interconnection processes. However, the program is not interested in innovations that would require utilities to overhaul their current systems and models.\\n\\nThe Vehicle Technologies Office (VTO) is dedicated to funding research and development of efficient and clean mobility solutions that are affordable and can support the U.S. economy by improving the transportation of goods and people. The VTO focuses on advanced battery technologies, innovative powertrains, and technology integration to meet aggressive targets for cost, emissions, and technology transfer into commercial use.\\n\\nThe Batteries subprogram under VTO aims to significantly reduce the cost, weight, volume, and charging time of electric vehicle batteries. The goals are to lower battery pack costs to under $100/kWh, increase vehicle range to 300 miles, and reduce charging time to under 15 minutes by 2028. The program seeks proposals that advance battery technology towards commercialization, focusing on battery chemistry and production. The key challenges include increasing the life span of current battery chemistries and enabling extremely fast charging times.\", \"The Department of Energy (DOE) is seeking proposals that focus on the commercialization of lab-developed technologies. Proposals should not only form teams but also provide comprehensive support services, such as business planning, funding, expertise, mentoring, and networking with investors and corporations. Applicants are encouraged to collaborate with external organizations and to draw on existing DOE programs and other initiatives like DARPA's Embedded Entrepreneurship Initiative and Energy I-Corps. Proposals may involve scaling across multiple National Labs and should address one of the following areas of interest:\\n\\n1. AOI 3.1: Supplemental funding for the maturation and commercialization of National Lab-developed technology, leveraging the Lab Embedded Entrepreneurship Program (LEEP). Projects should aim to advance commercialization beyond the base project with a budget between $250,000 and $500,000.\\n\\n2. AOI 3.2: Entrepreneurial matchmaking, similar to medical residency match programs, to connect entrepreneurs with lab assets, principal investigators, and intellectual property (IP), followed by providing necessary support to market the new IP-integrated product.\\n\\n3. AOI 3.3: Development of incubators, accelerators, and other support programs to assist innovators and small businesses in developing their technologies and products, attracting capital, and networking.\\n\\nProposals are categorized into two subtopics based on their commitment to cost-sharing, with Subtopic 3.a requiring a 50% cost-share and Subtopic 3.b meeting less than 50%. The DOE emphasizes the importance of leveraging existing resources and networks to facilitate the commercialization process.\", 'The i2X program is focused on enhancing the quality and interactivity of electric utility grid hosting capacity maps to aid customers in making informed decisions about service availability and grid upgrade costs. It emphasizes the integration of variable energy sources like solar and wind, and the creation of joint hosting capacity maps for utilities with adjacent service territories. The program is interested in innovations that can be tested with utilities without requiring them to overhaul their current systems.\\n\\nThe Vehicle Technologies Office (VTO) is dedicated to funding research and development of efficient and clean mobility solutions that are affordable for Americans. It concentrates on advanced battery technologies, innovative powertrains, and technology integration for community-level deployment. VTO aims to reduce the cost and charge time of electric vehicle batteries while increasing their range and lifespan. The challenges include extending battery life to at least 10 years and 1000 cycles, and enabling batteries to charge to 80% within 10 minutes.', \"The provided information discusses the design and algae-based wastewater treatment as part of a broader initiative by the U.S. Department of Energy's Bioenergy Technologies Office (BETO) to advance mid-stage research and development (R&D) for low-carbon bioenergy and bioproducts. The initiative seeks to reduce costs and carbon intensity in the conversion of feedstocks and waste into biofuels, bioproducts, and biopower, as well as to integrate these processes into existing systems. It also emphasizes the importance of data, modeling, and analysis to understand the economic, environmental, and social impacts of bioenergy systems.\\n\\nTwo specific technology areas are highlighted:\\n\\n1. Early Maturation of Technologies (Technology Area #1): This focuses on DOE Facility-developed technologies with commercial potential to decarbonize transportation, industry, and agriculture. The goal is to mature these technologies to attract private partners. Projects should demonstrate technology maturity, market impact, and economic feasibility, with a funding range of $100,000 to $250,000 and a performance period of 6 to 18 months.\\n\\n2. Cooperative Development and Commercialization (Technology Area #2): This area supports cooperative development with private partners for technologies that can decarbonize transportation, industry, and agriculture, and that are developed at DOE facilities. Projects must show viability for commercialization and have a clear market target. They require existing DOE facility technology or IP and a non-Federal partner with a defined commercial application.\\n\\nProposals for the BETO Area of Interest (AOI) must meet a cost share of at least 50% of the total project costs with non-Federally appointed funds.\"]\n"
          ]
        }
      ],
      "source": [
        "import openai\n",
        "# import docsearch\n",
        "query = \"I am a small biotech startup that wants to partner with a DOE lab for an experiment I focus on fermentation based biomanufacturing what are relevant topics for my company in this lab call\"\n",
        "\n",
        "response = openai.ChatCompletion.create(\n",
        "  model=\"gpt-4-1106-preview\", \n",
        "      messages=[\n",
        "        {\"role\": \"system\", \"content\": \"You are a helpful Biotechnology assistant that generates questions.\"},\n",
        "        {\"role\": \"user\", \"content\": f\"Generate 3 detailed questions based off of: {query}\"}\n",
        "    ],\n",
        "  max_tokens=200,\n",
        "  temperature=0.6\n",
        "),\n",
        "# print(response)\n",
        "# print(response[0][\"choices\"])\n",
        "# print(response[0][\"choices\"][0][\"message\"])\n",
        "# print(response[0][\"choices\"][0][\"message\"][\"content\"])\n",
        "doc_chunks = []\n",
        "for question in response[0][\"choices\"][0][\"message\"][\"content\"].split('\\n'):\n",
        "  print(question)\n",
        "  docs = docsearch.similarity_search(question, k=2)\n",
        "  doc_chunks.append(docs)\n",
        "# docs = docsearch.similarity_search(query)\n",
        "# chain.run(input_documents=docs, question=query)\n",
        "summaries = []  \n",
        "for chunk in doc_chunks:\n",
        "    # print(chunk)\n",
        "    response = openai.ChatCompletion.create(\n",
        "      model=\"gpt-4-1106-preview\",\n",
        "      messages=[\n",
        "            {\n",
        "                \"role\": \"system\",\n",
        "                \"content\": \"You are a specialized AI Biotechnology Analyst. Your primary mission is to conduct in-depth research and analysis in the field of biotechnology. Your expertise spans a wide range of biotechnological domains, including genetic engineering, bioprocessing, bioinformatics, and molecular biology.\"\n",
        "            },\n",
        "            {\n",
        "                \"role\": \"user\",\n",
        "                \"content\": f\"Read this information and summarize it in a few sentences: {chunk[0].page_content}\"\n",
        "            }\n",
        "        ],\n",
        "      max_tokens=800,\n",
        "      temperature=0.3\n",
        "    )\n",
        "    summaries.append(response['choices'][0]['message']['content'])\n",
        "\n",
        "print(summaries)\n"
      ]
    },
    {
      "cell_type": "code",
      "execution_count": 46,
      "metadata": {},
      "outputs": [
        {
          "name": "stdout",
          "output_type": "stream",
          "text": [
            "# Opportunities for Fermentation-Based Biomanufacturing Through DOE Labs\n",
            "\n",
            "## Introduction\n",
            "\n",
            "Fermentation-based biomanufacturing is a critical process in the biotechnology industry, enabling the conversion of various feedstocks into valuable products such as biofuels, bioplastics, and pharmaceuticals. The Department of Energy (DOE) has a vested interest in advancing these technologies, particularly as they pertain to sustainable energy and material production. This report examines the opportunities available through DOE labs for piloting novel feedstock utilization strategies, optimizing energy consumption, and reducing waste in fermentation-based processes. It also explores past successful partnerships and projects that have led to the commercialization of sustainable biotechnologies.\n",
            "\n",
            "## DOE's Commitment to Biomanufacturing Innovation\n",
            "\n",
            "The DOE's Bioenergy Technologies Office (BETO) and various initiatives under its umbrella demonstrate a strong commitment to supporting the development and commercialization of biomanufacturing technologies. BETO's focus on reducing costs and carbon intensity in the conversion of feedstocks into biofuels and bioproducts aligns with the goals of fermentation-based biomanufacturing.\n",
            "\n",
            "### Opportunities in DOE Lab Programs\n",
            "\n",
            "#### 1. Lab Embedded Entrepreneurship Program (LEEP)\n",
            "Under the Area of Interest (AOI) 3.1, the DOE provides supplemental funding for the maturation and commercialization of National Lab-developed technology. This includes fermentation technologies that can utilize novel feedstocks, optimize energy use, and minimize waste. LEEP is designed to support entrepreneurs in advancing lab-developed technologies towards market readiness, with a budget recommendation of $250,000 to $500,000.\n",
            "\n",
            "#### 2. Entrepreneurial Matchmaking (AOI 3.2)\n",
            "AOI 3.2 facilitates connections between entrepreneurs and lab assets, including intellectual property (IP) related to fermentation processes. This matchmaking can lead to the development of IP-integrated products, with the DOE providing the necessary support to bring these products to market.\n",
            "\n",
            "#### 3. Incubators and Accelerators (AOI 3.3)\n",
            "This area supports the development of support programs that assist innovators in refining their technologies. For fermentation-based biomanufacturing, this could mean access to facilities and expertise that specialize in scaling up processes, reducing energy consumption, and implementing waste reduction strategies.\n",
            "\n",
            "#### 4. i2X Program\n",
            "The i2X program's focus on enhancing utility grid hosting capacity maps indirectly supports biomanufacturing by improving the energy infrastructure. This can benefit fermentation facilities that require significant energy inputs and may be interested in integrating renewable energy sources into their operations.\n",
            "\n",
            "#### 5. Vehicle Technologies Office (VTO) Batteries Subprogram\n",
            "Although not directly related to fermentation, the VTO's emphasis on advanced battery technologies can be leveraged by fermentation-based operations to improve energy storage and management, which is a critical aspect of optimizing energy consumption in biomanufacturing processes.\n",
            "\n",
            "## Examples of Past Successful Partnerships\n",
            "\n",
            "### Case Study 1: Algae-Based Wastewater Treatment\n",
            "The DOE's BETO has supported the development of algae-based wastewater treatment systems. These systems not only treat wastewater but also produce biomass that can be converted into biofuels or bioproducts through fermentation. This approach exemplifies the DOE's support for projects that integrate waste reduction with the production of renewable energy sources.\n",
            "\n",
            "### Case Study 2: Cooperative Development and Commercialization\n",
            "Under Technology Area #2, the DOE has facilitated cooperative development with private partners for technologies that can decarbonize various sectors. This includes fermentation technologies that have been developed at DOE facilities. Successful commercialization of these technologies has been achieved through clear market targets and partnerships with non-Federal entities.\n",
            "\n",
            "### Case Study 3: Advanced Biofuels and Bioproducts Process Development Unit (ABPDU)\n",
            "The ABPDU at Lawrence Berkeley National Lab is an example of a DOE-funded facility that provides support for the scale-up of biomanufacturing processes. The ABPDU has been instrumental in helping numerous companies optimize their fermentation processes, reduce energy consumption, and pilot novel feedstock utilization strategies.\n",
            "\n",
            "## Strategic Recommendations for Utilizing DOE Opportunities\n",
            "\n",
            "### Novel Feedstock Utilization\n",
            "Companies should explore partnerships with DOE labs to access cutting-edge research on the use of non-traditional feedstocks for fermentation. This could include agricultural residues, municipal solid waste, or algae, which can reduce reliance on food crops and enhance sustainability.\n",
            "\n",
            "### Energy Optimization\n",
            "Fermentation processes can be energy-intensive. By collaborating with DOE initiatives, companies can gain insights into energy-saving techniques, such as integrating renewable energy sources, optimizing bioreactor design, and implementing advanced process controls.\n",
            "\n",
            "### Waste Reduction\n",
            "Waste reduction is a critical aspect of sustainable biomanufacturing. DOE labs can provide expertise in process integration and waste valorization, where waste streams are converted into valuable products, thus minimizing environmental impact and improving process economics.\n",
            "\n",
            "## Conclusion\n",
            "\n",
            "The DOE provides a wealth of opportunities for companies specializing in fermentation-based biomanufacturing to pilot novel feedstock strategies, optimize energy consumption, and reduce waste. By leveraging programs such as LEEP, entrepreneurial matchmaking, incubators, and accelerators, as well as drawing on the success of past partnerships, companies can advance their technologies towards commercialization. The DOE's support for sustainable biomanufacturing is evident in its funding initiatives and successful case studies, which serve as a blueprint for future collaborations in this field.\n"
          ]
        }
      ],
      "source": [
        "response = openai.ChatCompletion.create(\n",
        "      model=\"gpt-4-1106-preview\",\n",
        "      messages=[\n",
        "            {\n",
        "                \"role\": \"system\",\n",
        "                \"content\": \"You are a specialized AI Biotechnology Analyst. Your primary mission is to conduct in-depth research and analysis in the field of biotechnology. Your expertise spans a wide range of biotechnological domains, including genetic engineering, bioprocessing, bioinformatics, and molecular biology.\"\n",
        "            },\n",
        "            {\n",
        "                \"role\": \"user\",\n",
        "                \"content\": f'Read this information {summaries} Using the above information, answer the following'\\\n",
        "           f' question or topic: \"{question}\" in a detailed report --'\\\n",
        "           \" The report should focus on the answer to the question, should be well structured, informative,\" \\\n",
        "           \" in depth, with facts and numbers if available, a minimum of 1,200 words and with markdown syntax and apa format. \"\\\n",
        "            \"You MUST determine your own concrete and valid opinion based on the given information. Do NOT deter to general and meaningless conclusions.\" \\\n",
        "            }\n",
        "        ],\n",
        "      max_tokens=1500,\n",
        "      temperature=0.4\n",
        "    )\n",
        "print(response['choices'][0]['message']['content'])"
      ]
    },
    {
      "cell_type": "code",
      "execution_count": 50,
      "metadata": {
        "colab": {
          "base_uri": "https://localhost:8080/",
          "height": 36
        },
        "id": "RahXBIXjXO7X",
        "outputId": "96effd28-e864-4eea-fac0-b450cc04b56a"
      },
      "outputs": [
        {
          "name": "stdout",
          "output_type": "stream",
          "text": [
            "['The provided text outlines a lab call for proposals related to the development of algae-based wastewater treatment as part of broader biotechnological research and development efforts. The focus is on mid-stage R&D to create cost-effective conversion technologies for low-carbon bioenergy and bioproducts from various feedstocks and waste, including innovations to reduce cost and carbon intensity in converting feedstock into intermediate and final products. It also emphasizes the need for advancements in systems development and integration to reduce risks and produce biofuels and bioproducts that meet distribution and end-use specifications. Additionally, the text highlights the importance of data, modeling, and analysis to track progress and assess the impacts of advanced bioenergy systems.\\n\\nThere are two main technology areas for proposals: \\n\\n1. Early Maturation of Technologies (Technology Area #1): This area focuses on DOE Facility-developed technologies with commercial promise to decarbonize transportation, industry, and agriculture. Projects should aim to mature technology to attract private partners and demonstrate technological readiness, market impact, and economic feasibility. The performance period for these projects is 6–18 months, with federal funding ranging from $100,000 to $250,000.\\n\\n2. Cooperative Development and Commercialization (Technology Area #2): This area supports cooperative development with private partners for commercial applications of DOE-developed technologies. Projects should have already undergone evaluations like technoeconomic analysis or market opportunity analysis and have a clear market path. Eligible projects must involve existing DOE facility technology or IP and have a non-Federal partner with a defined commercial application.\\n\\nProposals for the Bioenergy Technologies Office (BETO) Area of Interest (AOI) must meet a cost share of at least 50% of total project costs from non-federally appointed funds.']\n",
            "# Algae-Based Wastewater Treatment and Its Relevance to Biomanufacturing of Chemicals: An Analysis for Grant Proposals\n",
            "\n",
            "## Executive Summary\n",
            "\n",
            "This report examines the potential for a small startup in the biotech space, specializing in fermentation-based biomanufacturing of chemicals traditionally derived from petroleum using biomass, to engage with a recent lab call for proposals. The lab call is centered on the development of algae-based wastewater treatment systems within the broader scope of biotechnological research and development. It emphasizes mid-stage R&D aimed at creating cost-effective conversion technologies for low-carbon bioenergy and bioproducts from various feedstocks and waste. The report will analyze the relevance of the Areas of Interest (AOIs) provided by the Bioenergy Technologies Office (BETO) to the startup's field of work and provide guidance on how to align the startup's objectives with the grant proposal requirements.\n",
            "\n",
            "## Introduction\n",
            "\n",
            "The lab call for proposals presents a strategic opportunity for startups to secure funding and support for their biotechnological innovations. For a startup focused on fermentation-based biomanufacturing, the call's emphasis on cost reduction, carbon intensity minimization, and systems development is particularly pertinent. The proposal outlines two main technology areas for grant applications, which are detailed below.\n",
            "\n",
            "## Technology Area #1: Early Maturation of Technologies\n",
            "\n",
            "### Description and Relevance\n",
            "\n",
            "Technology Area #1 targets the early maturation of technologies developed by the Department of Energy (DOE) facilities with the potential to decarbonize sectors such as transportation, industry, and agriculture. The focus is on advancing technologies to a stage where they can attract private investment and demonstrate readiness for the market. This area is relevant to the startup as it aligns with the company's objective to produce chemicals in a more sustainable manner, potentially reducing the carbon footprint of the chemical manufacturing sector.\n",
            "\n",
            "### Potential for Biomanufacturing\n",
            "\n",
            "The fermentation-based biomanufacturing process could benefit from advancements in bioconversion technologies that improve efficiency and reduce costs. The startup could propose projects that enhance the scalability of their processes or incorporate novel biocatalysts to increase yield and productivity. The integration of algae-based wastewater treatment into the biomanufacturing process could also be explored, offering a dual benefit of waste remediation and resource recovery.\n",
            "\n",
            "## Technology Area #2: Cooperative Development and Commercialization\n",
            "\n",
            "### Description and Relevance\n",
            "\n",
            "Technology Area #2 supports the cooperative development of DOE-developed technologies in partnership with private entities for commercial applications. This area is pertinent for startups that have already conducted technoeconomic analysis or market opportunity analysis and have a clear path to market. The startup's fermentation-based biomanufacturing process could leverage DOE technologies to enhance the commercial viability of their products.\n",
            "\n",
            "### Potential for Biomanufacturing\n",
            "\n",
            "The startup could explore partnerships with DOE facilities to access cutting-edge technologies that could be integrated into their biomanufacturing processes. This could include advanced bioreactors, process optimization algorithms, or novel separation technologies that improve the efficiency and cost-effectiveness of producing bio-based chemicals.\n",
            "\n",
            "## Analysis of the Bioenergy Technologies Office (BETO) Area of Interest\n",
            "\n",
            "### BETO's Focus on Advanced Bioenergy Systems\n",
            "\n",
            "The BETO's AOI underscores the importance of data, modeling, and analysis to assess the impact of advanced bioenergy systems. For the startup, this translates into an opportunity to develop robust data-driven approaches to optimize their fermentation processes and demonstrate the environmental and economic benefits of their technology.\n",
            "\n",
            "### Cost Share Requirement\n",
            "\n",
            "Proposals must meet a cost share of at least 50% of total project costs from non-federally appointed funds. This requirement necessitates a significant financial commitment from the startup, which could be a challenge for a small company. However, it also represents a strong signal of commitment and potential for high-impact results that could attract additional investors.\n",
            "\n",
            "## Strategic Alignment and Proposal Development\n",
            "\n",
            "### Identifying Synergies with DOE Technologies\n",
            "\n",
            "The startup should identify potential DOE technologies that can be synergistically integrated into their biomanufacturing process. This could involve leveraging algae-based wastewater treatment for nutrient recovery or adopting advanced bioprocessing tools to enhance their fermentation technology.\n",
            "\n",
            "### Addressing Market Impact and Economic Feasibility\n",
            "\n",
            "In the proposal, the startup must demonstrate the market impact and economic feasibility of their technology. This will involve a comprehensive analysis of the chemical market, potential cost savings, and environmental benefits compared to petroleum-based counterparts.\n",
            "\n",
            "### Technological Readiness and Performance Period\n",
            "\n",
            "For Technology Area #1, the startup should outline a clear plan to mature their technology within the 6–18 month performance period, including milestones and deliverables. For Technology Area #2, the focus should be on demonstrating the commercial readiness of the technology and the strength of the partnership with the DOE facility.\n",
            "\n",
            "## Conclusion\n",
            "\n",
            "The lab call for proposals offers a valuable opportunity for the startup to advance its fermentation-based biomanufacturing technology. Both Technology Areas #1 and #2 are relevant to the startup's objectives, with Area #1 focusing on early-stage maturation and Area #2 on cooperative development for commercialization. The startup should carefully assess its capabilities and resources to meet the cost share requirement and develop a compelling proposal that aligns with BETO's AOIs. By leveraging DOE technologies and demonstrating the commercial and environmental potential of their biomanufacturing process, the startup can position itself as a leader in the sustainable production of bio-based chemicals.\n",
            "\n",
            "## Recommendations\n",
            "\n",
            "- Conduct a thorough analysis of DOE technologies that can be integrated into the startup's biomanufacturing process.\n",
            "- Develop a detailed proposal that outlines the technological readiness, market impact, and economic feasibility of the technology.\n",
            "- Ensure a robust data-driven approach to optimize the fermentation process and demonstrate the benefits of the technology.\n",
            "- Engage with potential investors to meet the cost share requirement and secure additional funding for the project.\n",
            "\n",
            "## References\n",
            "\n",
            "This report is based on the provided lab call for proposals and does not include external references. However, in a full report, references to relevant literature, market analyses, and DOE publications would be included to support the proposal development process.\n"
          ]
        }
      ],
      "source": [
        "query = \"I have a small startup in the biotech space. We do fermentation based biomanufacturing of chemicals usually created with petrol using biomass. What are relevant Areas of Interest for grant proposals in this lab call\"\n",
        "docs = docsearch.similarity_search(query)\n",
        "\n",
        "summaries = []  \n",
        "\n",
        "# print(chunk)\n",
        "response = openai.ChatCompletion.create(\n",
        "    model=\"gpt-4-1106-preview\",\n",
        "    messages=[\n",
        "        {\n",
        "            \"role\": \"system\",\n",
        "            \"content\": \"You are a specialized AI Biotechnology Analyst. Your primary mission is to conduct in-depth research and analysis in the field of biotechnology. Your expertise spans a wide range of biotechnological domains, including genetic engineering, bioprocessing, bioinformatics, and molecular biology.\"\n",
        "        },\n",
        "        {\n",
        "            \"role\": \"user\",\n",
        "            \"content\": f\"Read this information and summarize it in a few sentences: {docs[0].page_content}\"\n",
        "        }\n",
        "    ],\n",
        "    max_tokens=800,\n",
        "    temperature=0.3\n",
        ")\n",
        "summaries.append(response['choices'][0]['message']['content'])\n",
        "\n",
        "print(summaries)\n",
        "\n",
        "response = openai.ChatCompletion.create(\n",
        "      model=\"gpt-4-1106-preview\",\n",
        "      messages=[\n",
        "            {\n",
        "                \"role\": \"system\",\n",
        "                \"content\": \"You are a specialized AI Biotechnology Analyst. Your primary mission is to conduct in-depth research and analysis in the field of biotechnology. Your expertise spans a wide range of biotechnological domains, including genetic engineering, bioprocessing, bioinformatics, and molecular biology.\"\n",
        "            },\n",
        "            {\n",
        "                \"role\": \"user\",\n",
        "                \"content\": f'Read this information {summaries} Using the above information, answer the following'\\\n",
        "           f' question or topic: \"{query}\" in a detailed report --'\\\n",
        "           \" The report should focus on the answer to the question, should be well structured, informative,\" \\\n",
        "           \" in depth, with facts and numbers if available, a minimum of 1,200 words and with markdown syntax and apa format. \"\\\n",
        "            \"You MUST determine your own concrete and valid opinion based on the given information. Do NOT deter to general and meaningless conclusions.\" \\\n",
        "            }\n",
        "        ],\n",
        "      max_tokens=1500,\n",
        "      temperature=0.4\n",
        "    )\n",
        "print(response['choices'][0]['message']['content'])"
      ]
    },
    {
      "cell_type": "code",
      "execution_count": null,
      "metadata": {
        "colab": {
          "base_uri": "https://localhost:8080/",
          "height": 53
        },
        "id": "EzNcvjRJXSZ4",
        "outputId": "15005165-937e-40ec-d08e-e142f4acdd65"
      },
      "outputs": [
        {
          "data": {
            "application/vnd.google.colaboratory.intrinsic+json": {
              "type": "string"
            },
            "text/plain": [
              "' The model was trained with LoRA (Hu et al., 2021) on the 437,605 post-processed examples for four epochs. Detailed model hyper-parameters and training code can be found in the associated repository and model training log.'"
            ]
          },
          "execution_count": 50,
          "metadata": {},
          "output_type": "execute_result"
        }
      ],
      "source": [
        "query = \"How was the model trained?\"\n",
        "docs = docsearch.similarity_search(query)\n",
        "chain.run(input_documents=docs, question=query)"
      ]
    },
    {
      "cell_type": "code",
      "execution_count": null,
      "metadata": {
        "colab": {
          "base_uri": "https://localhost:8080/",
          "height": 36
        },
        "id": "Nhx-kpvAXUl3",
        "outputId": "e7bead62-1726-4e1d-c88e-528e5db1e9f9"
      },
      "outputs": [
        {
          "data": {
            "application/vnd.google.colaboratory.intrinsic+json": {
              "type": "string"
            },
            "text/plain": [
              "' The final training dataset contains 437,605 prompt-generation pairs.'"
            ]
          },
          "execution_count": 51,
          "metadata": {},
          "output_type": "execute_result"
        }
      ],
      "source": [
        "query = \"what was the size of the training dataset?\"\n",
        "docs = docsearch.similarity_search(query)\n",
        "chain.run(input_documents=docs, question=query)"
      ]
    }
  ],
  "metadata": {
    "colab": {
      "provenance": []
    },
    "gpuClass": "standard",
    "kernelspec": {
      "display_name": "Python 3",
      "name": "python3"
    },
    "language_info": {
      "codemirror_mode": {
        "name": "ipython",
        "version": 3
      },
      "file_extension": ".py",
      "mimetype": "text/x-python",
      "name": "python",
      "nbconvert_exporter": "python",
      "pygments_lexer": "ipython3",
      "version": "3.1.undefined"
    }
  },
  "nbformat": 4,
  "nbformat_minor": 0
}
