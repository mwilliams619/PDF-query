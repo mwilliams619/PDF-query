{
 "cells": [
  {
   "cell_type": "code",
   "execution_count": 1,
   "metadata": {},
   "outputs": [
    {
     "name": "stdout",
     "output_type": "stream",
     "text": [
      "Requirement already satisfied: scholarly in ./scholar2/lib/python3.10/site-packages (1.7.11)\n",
      "Requirement already satisfied: arrow in ./scholar2/lib/python3.10/site-packages (from scholarly) (1.3.0)\n",
      "Requirement already satisfied: beautifulsoup4 in ./scholar2/lib/python3.10/site-packages (from scholarly) (4.12.2)\n",
      "Requirement already satisfied: bibtexparser in ./scholar2/lib/python3.10/site-packages (from scholarly) (1.4.1)\n",
      "Requirement already satisfied: deprecated in ./scholar2/lib/python3.10/site-packages (from scholarly) (1.2.14)\n",
      "Requirement already satisfied: fake-useragent in ./scholar2/lib/python3.10/site-packages (from scholarly) (1.3.0)\n",
      "Requirement already satisfied: free-proxy in ./scholar2/lib/python3.10/site-packages (from scholarly) (1.1.1)\n",
      "Requirement already satisfied: httpx in ./scholar2/lib/python3.10/site-packages (from scholarly) (0.25.0)\n",
      "Requirement already satisfied: python-dotenv in ./scholar2/lib/python3.10/site-packages (from scholarly) (1.0.0)\n",
      "Requirement already satisfied: requests[socks] in ./scholar2/lib/python3.10/site-packages (from scholarly) (2.31.0)\n",
      "Requirement already satisfied: selenium in ./scholar2/lib/python3.10/site-packages (from scholarly) (4.14.0)\n",
      "Requirement already satisfied: sphinx-rtd-theme in ./scholar2/lib/python3.10/site-packages (from scholarly) (1.3.0)\n",
      "Requirement already satisfied: typing-extensions in ./scholar2/lib/python3.10/site-packages (from scholarly) (4.8.0)\n",
      "Requirement already satisfied: python-dateutil>=2.7.0 in ./scholar2/lib/python3.10/site-packages (from arrow->scholarly) (2.8.2)\n",
      "Requirement already satisfied: types-python-dateutil>=2.8.10 in ./scholar2/lib/python3.10/site-packages (from arrow->scholarly) (2.8.19.14)\n",
      "Requirement already satisfied: soupsieve>1.2 in ./scholar2/lib/python3.10/site-packages (from beautifulsoup4->scholarly) (2.5)\n",
      "Requirement already satisfied: pyparsing>=2.0.3 in ./scholar2/lib/python3.10/site-packages (from bibtexparser->scholarly) (3.1.1)\n",
      "Requirement already satisfied: wrapt<2,>=1.10 in ./scholar2/lib/python3.10/site-packages (from deprecated->scholarly) (1.15.0)\n",
      "Requirement already satisfied: lxml in ./scholar2/lib/python3.10/site-packages (from free-proxy->scholarly) (4.9.3)\n",
      "Requirement already satisfied: certifi in ./scholar2/lib/python3.10/site-packages (from httpx->scholarly) (2023.7.22)\n",
      "Requirement already satisfied: httpcore<0.19.0,>=0.18.0 in ./scholar2/lib/python3.10/site-packages (from httpx->scholarly) (0.18.0)\n",
      "Requirement already satisfied: idna in ./scholar2/lib/python3.10/site-packages (from httpx->scholarly) (3.4)\n",
      "Requirement already satisfied: sniffio in ./scholar2/lib/python3.10/site-packages (from httpx->scholarly) (1.3.0)\n",
      "Requirement already satisfied: charset-normalizer<4,>=2 in ./scholar2/lib/python3.10/site-packages (from requests[socks]->scholarly) (3.3.0)\n",
      "Requirement already satisfied: urllib3<3,>=1.21.1 in ./scholar2/lib/python3.10/site-packages (from requests[socks]->scholarly) (2.0.7)\n",
      "Requirement already satisfied: PySocks!=1.5.7,>=1.5.6 in ./scholar2/lib/python3.10/site-packages (from requests[socks]->scholarly) (1.7.1)\n",
      "Requirement already satisfied: trio~=0.17 in ./scholar2/lib/python3.10/site-packages (from selenium->scholarly) (0.22.2)\n",
      "Requirement already satisfied: trio-websocket~=0.9 in ./scholar2/lib/python3.10/site-packages (from selenium->scholarly) (0.11.1)\n",
      "Requirement already satisfied: sphinx<8,>=1.6 in ./scholar2/lib/python3.10/site-packages (from sphinx-rtd-theme->scholarly) (7.2.6)\n",
      "Requirement already satisfied: docutils<0.19 in ./scholar2/lib/python3.10/site-packages (from sphinx-rtd-theme->scholarly) (0.18.1)\n",
      "Requirement already satisfied: sphinxcontrib-jquery<5,>=4 in ./scholar2/lib/python3.10/site-packages (from sphinx-rtd-theme->scholarly) (4.1)\n",
      "Requirement already satisfied: anyio<5.0,>=3.0 in ./scholar2/lib/python3.10/site-packages (from httpcore<0.19.0,>=0.18.0->httpx->scholarly) (4.0.0)\n",
      "Requirement already satisfied: h11<0.15,>=0.13 in ./scholar2/lib/python3.10/site-packages (from httpcore<0.19.0,>=0.18.0->httpx->scholarly) (0.14.0)\n",
      "Requirement already satisfied: six>=1.5 in ./scholar2/lib/python3.10/site-packages (from python-dateutil>=2.7.0->arrow->scholarly) (1.16.0)\n",
      "Requirement already satisfied: sphinxcontrib-applehelp in ./scholar2/lib/python3.10/site-packages (from sphinx<8,>=1.6->sphinx-rtd-theme->scholarly) (1.0.7)\n",
      "Requirement already satisfied: sphinxcontrib-devhelp in ./scholar2/lib/python3.10/site-packages (from sphinx<8,>=1.6->sphinx-rtd-theme->scholarly) (1.0.5)\n",
      "Requirement already satisfied: sphinxcontrib-jsmath in ./scholar2/lib/python3.10/site-packages (from sphinx<8,>=1.6->sphinx-rtd-theme->scholarly) (1.0.1)\n",
      "Requirement already satisfied: sphinxcontrib-htmlhelp>=2.0.0 in ./scholar2/lib/python3.10/site-packages (from sphinx<8,>=1.6->sphinx-rtd-theme->scholarly) (2.0.4)\n",
      "Requirement already satisfied: sphinxcontrib-serializinghtml>=1.1.9 in ./scholar2/lib/python3.10/site-packages (from sphinx<8,>=1.6->sphinx-rtd-theme->scholarly) (1.1.9)\n",
      "Requirement already satisfied: sphinxcontrib-qthelp in ./scholar2/lib/python3.10/site-packages (from sphinx<8,>=1.6->sphinx-rtd-theme->scholarly) (1.0.6)\n",
      "Requirement already satisfied: Jinja2>=3.0 in ./scholar2/lib/python3.10/site-packages (from sphinx<8,>=1.6->sphinx-rtd-theme->scholarly) (3.1.2)\n",
      "Requirement already satisfied: Pygments>=2.14 in ./scholar2/lib/python3.10/site-packages (from sphinx<8,>=1.6->sphinx-rtd-theme->scholarly) (2.16.1)\n",
      "Requirement already satisfied: snowballstemmer>=2.0 in ./scholar2/lib/python3.10/site-packages (from sphinx<8,>=1.6->sphinx-rtd-theme->scholarly) (2.2.0)\n",
      "Requirement already satisfied: babel>=2.9 in ./scholar2/lib/python3.10/site-packages (from sphinx<8,>=1.6->sphinx-rtd-theme->scholarly) (2.13.0)\n",
      "Requirement already satisfied: alabaster<0.8,>=0.7 in ./scholar2/lib/python3.10/site-packages (from sphinx<8,>=1.6->sphinx-rtd-theme->scholarly) (0.7.13)\n",
      "Requirement already satisfied: imagesize>=1.3 in ./scholar2/lib/python3.10/site-packages (from sphinx<8,>=1.6->sphinx-rtd-theme->scholarly) (1.4.1)\n",
      "Requirement already satisfied: packaging>=21.0 in ./scholar2/lib/python3.10/site-packages (from sphinx<8,>=1.6->sphinx-rtd-theme->scholarly) (23.2)\n",
      "Requirement already satisfied: attrs>=20.1.0 in ./scholar2/lib/python3.10/site-packages (from trio~=0.17->selenium->scholarly) (23.1.0)\n",
      "Requirement already satisfied: sortedcontainers in ./scholar2/lib/python3.10/site-packages (from trio~=0.17->selenium->scholarly) (2.4.0)\n",
      "Requirement already satisfied: outcome in ./scholar2/lib/python3.10/site-packages (from trio~=0.17->selenium->scholarly) (1.3.0)\n",
      "Requirement already satisfied: exceptiongroup>=1.0.0rc9 in ./scholar2/lib/python3.10/site-packages (from trio~=0.17->selenium->scholarly) (1.1.3)\n",
      "Requirement already satisfied: wsproto>=0.14 in ./scholar2/lib/python3.10/site-packages (from trio-websocket~=0.9->selenium->scholarly) (1.2.0)\n",
      "Requirement already satisfied: MarkupSafe>=2.0 in ./scholar2/lib/python3.10/site-packages (from Jinja2>=3.0->sphinx<8,>=1.6->sphinx-rtd-theme->scholarly) (2.1.3)\n",
      "\u001b[33mWARNING: There was an error checking the latest version of pip.\u001b[0m\u001b[33m\n",
      "\u001b[0mNote: you may need to restart the kernel to use updated packages.\n",
      "Requirement already satisfied: matplotlib in ./scholar2/lib/python3.10/site-packages (3.8.0)\n",
      "Requirement already satisfied: contourpy>=1.0.1 in ./scholar2/lib/python3.10/site-packages (from matplotlib) (1.1.1)\n",
      "Requirement already satisfied: cycler>=0.10 in ./scholar2/lib/python3.10/site-packages (from matplotlib) (0.12.1)\n",
      "Requirement already satisfied: fonttools>=4.22.0 in ./scholar2/lib/python3.10/site-packages (from matplotlib) (4.43.1)\n",
      "Requirement already satisfied: kiwisolver>=1.0.1 in ./scholar2/lib/python3.10/site-packages (from matplotlib) (1.4.5)\n",
      "Requirement already satisfied: numpy<2,>=1.21 in ./scholar2/lib/python3.10/site-packages (from matplotlib) (1.26.1)\n",
      "Requirement already satisfied: packaging>=20.0 in ./scholar2/lib/python3.10/site-packages (from matplotlib) (23.2)\n",
      "Requirement already satisfied: pillow>=6.2.0 in ./scholar2/lib/python3.10/site-packages (from matplotlib) (10.1.0)\n",
      "Requirement already satisfied: pyparsing>=2.3.1 in ./scholar2/lib/python3.10/site-packages (from matplotlib) (3.1.1)\n",
      "Requirement already satisfied: python-dateutil>=2.7 in ./scholar2/lib/python3.10/site-packages (from matplotlib) (2.8.2)\n",
      "Requirement already satisfied: six>=1.5 in ./scholar2/lib/python3.10/site-packages (from python-dateutil>=2.7->matplotlib) (1.16.0)\n",
      "\u001b[33mWARNING: There was an error checking the latest version of pip.\u001b[0m\u001b[33m\n",
      "\u001b[0mNote: you may need to restart the kernel to use updated packages.\n"
     ]
    }
   ],
   "source": [
    "#Google Scholar notebook\n",
    "%pip install scholarly\n",
    "%pip install matplotlib"
   ]
  },
  {
   "cell_type": "code",
   "execution_count": 21,
   "metadata": {},
   "outputs": [
    {
     "ename": "MaxTriesExceededException",
     "evalue": "Cannot Fetch from Google Scholar.",
     "output_type": "error",
     "traceback": [
      "\u001b[0;31m---------------------------------------------------------------------------\u001b[0m",
      "\u001b[0;31mMaxTriesExceededException\u001b[0m                 Traceback (most recent call last)",
      "\u001b[1;32m/Users/Work/Documents/PDF query/scholar_script.ipynb Cell 2\u001b[0m line \u001b[0;36m1\n\u001b[1;32m     <a href='vscode-notebook-cell:/Users/Work/Documents/PDF%20query/scholar_script.ipynb#W1sZmlsZQ%3D%3D?line=9'>10</a>\u001b[0m \u001b[39m# Now search Google Scholar from behind a proxy\u001b[39;00m\n\u001b[1;32m     <a href='vscode-notebook-cell:/Users/Work/Documents/PDF%20query/scholar_script.ipynb#W1sZmlsZQ%3D%3D?line=10'>11</a>\u001b[0m search_query \u001b[39m=\u001b[39m scholarly\u001b[39m.\u001b[39msearch_keywords([\u001b[39m\"\u001b[39m\u001b[39mRecurrent Neural Networks\u001b[39m\u001b[39m\"\u001b[39m])\n\u001b[0;32m---> <a href='vscode-notebook-cell:/Users/Work/Documents/PDF%20query/scholar_script.ipynb#W1sZmlsZQ%3D%3D?line=11'>12</a>\u001b[0m scholarly\u001b[39m.\u001b[39mpprint(\u001b[39mnext\u001b[39;49m(search_query))\n\u001b[1;32m     <a href='vscode-notebook-cell:/Users/Work/Documents/PDF%20query/scholar_script.ipynb#W1sZmlsZQ%3D%3D?line=12'>13</a>\u001b[0m \u001b[39mfor\u001b[39;00m result \u001b[39min\u001b[39;00m search_query:\n\u001b[1;32m     <a href='vscode-notebook-cell:/Users/Work/Documents/PDF%20query/scholar_script.ipynb#W1sZmlsZQ%3D%3D?line=14'>15</a>\u001b[0m     \u001b[39mprint\u001b[39m(result)\n",
      "File \u001b[0;32m~/Documents/PDF query/scholar2/lib/python3.10/site-packages/scholarly/_navigator.py:250\u001b[0m, in \u001b[0;36mNavigator.search_authors\u001b[0;34m(self, url)\u001b[0m\n\u001b[1;32m    248\u001b[0m \u001b[39mdef\u001b[39;00m \u001b[39msearch_authors\u001b[39m(\u001b[39mself\u001b[39m, url: \u001b[39mstr\u001b[39m)\u001b[39m-\u001b[39m\u001b[39m>\u001b[39mAuthor:\n\u001b[1;32m    249\u001b[0m \u001b[39m    \u001b[39m\u001b[39m\"\"\"Generator that returns Author objects from the author search page\"\"\"\u001b[39;00m\n\u001b[0;32m--> 250\u001b[0m     soup \u001b[39m=\u001b[39m \u001b[39mself\u001b[39;49m\u001b[39m.\u001b[39;49m_get_soup(url)\n\u001b[1;32m    252\u001b[0m     author_parser \u001b[39m=\u001b[39m AuthorParser(\u001b[39mself\u001b[39m)\n\u001b[1;32m    253\u001b[0m     \u001b[39mwhile\u001b[39;00m \u001b[39mTrue\u001b[39;00m:\n",
      "File \u001b[0;32m~/Documents/PDF query/scholar2/lib/python3.10/site-packages/scholarly/_navigator.py:239\u001b[0m, in \u001b[0;36mNavigator._get_soup\u001b[0;34m(self, url)\u001b[0m\n\u001b[1;32m    237\u001b[0m \u001b[39mdef\u001b[39;00m \u001b[39m_get_soup\u001b[39m(\u001b[39mself\u001b[39m, url: \u001b[39mstr\u001b[39m) \u001b[39m-\u001b[39m\u001b[39m>\u001b[39m BeautifulSoup:\n\u001b[1;32m    238\u001b[0m \u001b[39m    \u001b[39m\u001b[39m\"\"\"Return the BeautifulSoup for a page on scholar.google.com\"\"\"\u001b[39;00m\n\u001b[0;32m--> 239\u001b[0m     html \u001b[39m=\u001b[39m \u001b[39mself\u001b[39;49m\u001b[39m.\u001b[39;49m_get_page(\u001b[39m'\u001b[39;49m\u001b[39mhttps://scholar.google.com\u001b[39;49m\u001b[39m{0}\u001b[39;49;00m\u001b[39m'\u001b[39;49m\u001b[39m.\u001b[39;49mformat(url))\n\u001b[1;32m    240\u001b[0m     html \u001b[39m=\u001b[39m html\u001b[39m.\u001b[39mreplace(\u001b[39mu\u001b[39m\u001b[39m'\u001b[39m\u001b[39m\\xa0\u001b[39;00m\u001b[39m'\u001b[39m, \u001b[39mu\u001b[39m\u001b[39m'\u001b[39m\u001b[39m \u001b[39m\u001b[39m'\u001b[39m)\n\u001b[1;32m    241\u001b[0m     res \u001b[39m=\u001b[39m BeautifulSoup(html, \u001b[39m'\u001b[39m\u001b[39mhtml.parser\u001b[39m\u001b[39m'\u001b[39m)\n",
      "File \u001b[0;32m~/Documents/PDF query/scholar2/lib/python3.10/site-packages/scholarly/_navigator.py:188\u001b[0m, in \u001b[0;36mNavigator._get_page\u001b[0;34m(self, pagerequest, premium)\u001b[0m\n\u001b[1;32m    186\u001b[0m \u001b[39m# If secondary proxy does not work, try again primary proxy.\u001b[39;00m\n\u001b[1;32m    187\u001b[0m \u001b[39mif\u001b[39;00m \u001b[39mnot\u001b[39;00m premium:\n\u001b[0;32m--> 188\u001b[0m     \u001b[39mreturn\u001b[39;00m \u001b[39mself\u001b[39;49m\u001b[39m.\u001b[39;49m_get_page(pagerequest, \u001b[39mTrue\u001b[39;49;00m)\n\u001b[1;32m    189\u001b[0m \u001b[39melse\u001b[39;00m:\n\u001b[1;32m    190\u001b[0m     \u001b[39mraise\u001b[39;00m MaxTriesExceededException(\u001b[39m\"\u001b[39m\u001b[39mCannot Fetch from Google Scholar.\u001b[39m\u001b[39m\"\u001b[39m)\n",
      "File \u001b[0;32m~/Documents/PDF query/scholar2/lib/python3.10/site-packages/scholarly/_navigator.py:190\u001b[0m, in \u001b[0;36mNavigator._get_page\u001b[0;34m(self, pagerequest, premium)\u001b[0m\n\u001b[1;32m    188\u001b[0m     \u001b[39mreturn\u001b[39;00m \u001b[39mself\u001b[39m\u001b[39m.\u001b[39m_get_page(pagerequest, \u001b[39mTrue\u001b[39;00m)\n\u001b[1;32m    189\u001b[0m \u001b[39melse\u001b[39;00m:\n\u001b[0;32m--> 190\u001b[0m     \u001b[39mraise\u001b[39;00m MaxTriesExceededException(\u001b[39m\"\u001b[39m\u001b[39mCannot Fetch from Google Scholar.\u001b[39m\u001b[39m\"\u001b[39m)\n",
      "\u001b[0;31mMaxTriesExceededException\u001b[0m: Cannot Fetch from Google Scholar."
     ]
    }
   ],
   "source": [
    "from scholarly import scholarly\n",
    "from scholarly import ProxyGenerator\n",
    "\n",
    "# Set up a ProxyGenerator object to use free proxies\n",
    "# This needs to be done only once per session\n",
    "pg = ProxyGenerator()\n",
    "pg.FreeProxies()\n",
    "scholarly.use_proxy(pg)\n",
    "\n",
    "# Now search Google Scholar from behind a proxy\n",
    "search_query = scholarly.search_keywords([\"Recurrent Neural Networks\"])\n",
    "scholarly.pprint(next(search_query))\n",
    "for result in search_query:\n",
    "    \n",
    "    print(result)"
   ]
  },
  {
   "cell_type": "code",
   "execution_count": 16,
   "metadata": {},
   "outputs": [
    {
     "name": "stdout",
     "output_type": "stream",
     "text": [
      "Year 2015: 0 articles\n",
      "Year 2017: 0 articles\n",
      "Year 2018: 0 articles\n"
     ]
    }
   ],
   "source": [
    "from scholarly import scholarly, MaxTriesExceededException\n",
    "from collections import Counter\n",
    "import time\n",
    "\n",
    "max_retries = 3\n",
    "retry_delay = 5  # seconds\n",
    "\n",
    "# Define your search query\n",
    "search_query = '\"strain design\" + \"Recurrent Neural Network\"'\n",
    "\n",
    "# Define the years you want to count articles for\n",
    "years = list(range(2015, 2024))\n",
    "\n",
    "# Initialize a counter for each year\n",
    "article_count_by_year = Counter()\n",
    "\n",
    "# Perform the search and count articles for each year\n",
    "for year in years:\n",
    "    retries = 0\n",
    "    while retries < max_retries:\n",
    "        try:\n",
    "            query = scholarly.search_keywords(f'{search_query} {year}')\n",
    "            for x in query:\n",
    "                print(x)\n",
    "            article_count = sum(1 for _ in query)\n",
    "            article_count_by_year[year] = article_count\n",
    "            break  # Success, exit the loop\n",
    "        except MaxTriesExceededException:\n",
    "            # Handle the exception and retry after a delay\n",
    "            retries += 1\n",
    "            time.sleep(retry_delay)\n",
    "\n",
    "# Print the results\n",
    "for year, count in article_count_by_year.items():\n",
    "    print(f\"Year {year}: {count} articles\")\n"
   ]
  },
  {
   "cell_type": "code",
   "execution_count": null,
   "metadata": {},
   "outputs": [],
   "source": [
    "import matplotlib.pyplot as plt\n",
    "\n",
    "# Extract the years and article counts from the Counter\n",
    "years = list(article_count_by_year.keys())\n",
    "counts = list(article_count_by_year.values())\n",
    "\n",
    "# Create a bar plot\n",
    "plt.figure(figsize=(10, 6))\n",
    "plt.bar(years, counts, color='skyblue')\n",
    "plt.xlabel('Year')\n",
    "plt.ylabel('Number of Articles')\n",
    "plt.title('Number of Articles per Year')\n",
    "plt.xticks(years)\n",
    "plt.grid(axis='y', linestyle='--', alpha=0.7)\n",
    "\n",
    "# Show the plot\n",
    "plt.show()"
   ]
  }
 ],
 "metadata": {
  "kernelspec": {
   "display_name": "researcher",
   "language": "python",
   "name": "python3"
  },
  "language_info": {
   "codemirror_mode": {
    "name": "ipython",
    "version": 3
   },
   "file_extension": ".py",
   "mimetype": "text/x-python",
   "name": "python",
   "nbconvert_exporter": "python",
   "pygments_lexer": "ipython3",
   "version": "3.1.-1"
  }
 },
 "nbformat": 4,
 "nbformat_minor": 2
}
